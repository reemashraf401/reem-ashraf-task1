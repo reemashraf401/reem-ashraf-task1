{
 "cells": [
  {
   "cell_type": "code",
   "execution_count": 2,
   "metadata": {},
   "outputs": [
    {
     "name": "stdout",
     "output_type": "stream",
     "text": [
      "Mass sequence 387.2481710527\n"
     ]
    }
   ],
   "source": [
    "#the mass of VAKA = mass(V) + mass(A) + mass(K) + mass(A)\n",
    "from pyopenms import *\n",
    "seq = AASequence.fromString(\"VAKA\")\n",
    "print(\"Mass sequence\",seq.getMonoWeight())"
   ]
  },
  {
   "cell_type": "code",
   "execution_count": 3,
   "metadata": {},
   "outputs": [
    {
     "name": "stdout",
     "output_type": "stream",
     "text": [
      "The peptide VAKA consists of the following amino acids:\n",
      "Valine : 117.0789793509\n",
      "Alanine : 89.0476792233\n",
      "Lysine : 146.1055284466\n",
      "Alanine : 89.0476792233\n",
      "441.2798662441\n"
     ]
    }
   ],
   "source": [
    "print(\"The peptide\", str(seq), \"consists of the following amino acids:\")\n",
    "sum = 0\n",
    "for a in seq:\n",
    "    print(a.getName(),\":\",a.getMonoWeight())\n",
    "    sum=sum+a.getMonoWeight()\n",
    "print(sum)"
   ]
  },
  {
   "cell_type": "code",
   "execution_count": null,
   "metadata": {},
   "outputs": [],
   "source": [
    "#Not Equal"
   ]
  }
 ],
 "metadata": {
  "kernelspec": {
   "display_name": "Python 3",
   "language": "python",
   "name": "python3"
  },
  "language_info": {
   "codemirror_mode": {
    "name": "ipython",
    "version": 3
   },
   "file_extension": ".py",
   "mimetype": "text/x-python",
   "name": "python",
   "nbconvert_exporter": "python",
   "pygments_lexer": "ipython3",
   "version": "3.7.4"
  }
 },
 "nbformat": 4,
 "nbformat_minor": 2
}
