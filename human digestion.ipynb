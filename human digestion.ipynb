{
 "cells": [
  {
   "cell_type": "code",
   "execution_count": 1,
   "metadata": {},
   "outputs": [
    {
     "name": "stdout",
     "output_type": "stream",
     "text": [
      "MAVMAPRTLLLLLSGALALTQTWAGSHSMRYFFTSVSRPGRGEPRFIAVGYVDDTQFVRFDSDAASQRMEPRAPWIEQEGPEYWDQETRNVKAQSQTDRVDLGTLRGYYNQSEAGSHTIQIMYGCDVGSDGRFLRGYRQDAYDGKDYIALNEDLRSWTAADMAAQITKRKWEAAHEAEQLRAYLDGTCVEWLRRYLENGKETLQRTDPPKTHMTHHPISDHEATLRCWALGFYPAEITLTWQRDGEDQTQDTELVETRPAGDGTFQKWAAVVVPSGEEQRYTCHVQHEGLPKPLTLRWELSSQPTIPIVGIIAGLVLLGAVITGAVVAAVMWRRKSSDRKGGSYTQAASSDSAQGSDVSLTACKV\n"
     ]
    }
   ],
   "source": [
    "from pyopenms import *\n",
    "bsa = \"\".join([l.strip() for l in open(\"human.fasta\").readlines()[1:]])\n",
    "bsa = AASequence.fromString(bsa)\n",
    "print(bsa)"
   ]
  },
  {
   "cell_type": "code",
   "execution_count": 4,
   "metadata": {},
   "outputs": [
    {
     "name": "stdout",
     "output_type": "stream",
     "text": [
      "MAVMAPR\n",
      "TLLLLLSGALALTQTWAGSHSMR\n",
      "YFFTSVSRPGR\n",
      "GEPR\n",
      "FIAVGYVDDTQFVR\n",
      "FDSDAASQR\n",
      "MEPR\n",
      "APWIEQEGPEYWDQETR\n",
      "NVK\n",
      "AQSQTDR\n",
      "VDLGTLR\n",
      "GYYNQSEAGSHTIQIMYGCDVGSDGR\n",
      "FLR\n",
      "GYR\n",
      "QDAYDGK\n",
      "DYIALNEDLR\n",
      "SWTAADMAAQITK\n",
      "R\n",
      "K\n",
      "WEAAHEAEQLR\n",
      "AYLDGTCVEWLR\n",
      "R\n",
      "YLENGK\n",
      "ETLQR\n",
      "TDPPK\n",
      "THMTHHPISDHEATLR\n",
      "CWALGFYPAEITLTWQR\n",
      "DGEDQTQDTELVETRPAGDGTFQK\n",
      "WAAVVVPSGEEQR\n",
      "YTCHVQHEGLPKPLTLR\n",
      "WELSSQPTIPIVGIIAGLVLLGAVITGAVVAAVMWR\n",
      "R\n",
      "K\n",
      "SSDR\n",
      "K\n",
      "GGSYTQAASSDSAQGSDVSLTACK\n",
      "V\n"
     ]
    }
   ],
   "source": [
    "dig = ProteaseDigestion()\n",
    "dig.getEnzymeName() # Trypsin\n",
    "result = []\n",
    "x=0\n",
    "dig.digest(bsa, result)\n",
    "for s in result:\n",
    "    print(s.toString())"
   ]
  },
  {
   "cell_type": "code",
   "execution_count": 5,
   "metadata": {},
   "outputs": [
    {
     "name": "stdout",
     "output_type": "stream",
     "text": [
      "33\n",
      "[b'V8-DE', b'iodosobenzoate', b'Clostripain/P', b'Glu-C+P', b'elastase-trypsin-chymotrypsin', b'no cleavage', b'unspecific cleavage', b'Trypsin/P', b'glutamyl endopeptidase', b'2-iodobenzoate', b'TrypChymo', b'leukocyte elastase', b'Alpha-lytic protease', b'staphylococcal protease/D', b'proline endopeptidase', b'proline-endopeptidase/HKR', b'PepsinA + P', b'V8-E', b'cyanogen-bromide', b'Lys-N', b'Chymotrypsin', b'Lys-C/P', b'Trypsin', b'PepsinA', b'Arg-C', b'Asp-N', b'Arg-C/P', b'Asp-N/B', b'Asp-N_ambic', b'Chymotrypsin/P', b'CNBr', b'Formic_acid', b'Lys-C']\n"
     ]
    }
   ],
   "source": [
    "names = []\n",
    "ProteaseDB().getAllNames(names)\n",
    "print(len(names))\n",
    "print(names)"
   ]
  },
  {
   "cell_type": "code",
   "execution_count": 6,
   "metadata": {},
   "outputs": [
    {
     "name": "stdout",
     "output_type": "stream",
     "text": [
      "Trypsin/P cuts after K or R.\n",
      "(?<=[KRX])\n"
     ]
    }
   ],
   "source": [
    "e = ProteaseDB().getEnzyme('Trypsin/P')\n",
    "print(e.getRegExDescription())\n",
    "print(e.getRegEx())"
   ]
  },
  {
   "cell_type": "code",
   "execution_count": 7,
   "metadata": {},
   "outputs": [
    {
     "name": "stdout",
     "output_type": "stream",
     "text": [
      "Lys-C cuts after K if not followed by P.\n",
      "(?<=[KX])(?!P)\n"
     ]
    }
   ],
   "source": [
    "e = ProteaseDB().getEnzyme('Lys-C')\n",
    "print(e.getRegExDescription())\n",
    "print(e.getRegEx())"
   ]
  },
  {
   "cell_type": "code",
   "execution_count": null,
   "metadata": {},
   "outputs": [],
   "source": []
  }
 ],
 "metadata": {
  "kernelspec": {
   "display_name": "Python 3",
   "language": "python",
   "name": "python3"
  },
  "language_info": {
   "codemirror_mode": {
    "name": "ipython",
    "version": 3
   },
   "file_extension": ".py",
   "mimetype": "text/x-python",
   "name": "python",
   "nbconvert_exporter": "python",
   "pygments_lexer": "ipython3",
   "version": "3.7.4"
  }
 },
 "nbformat": 4,
 "nbformat_minor": 2
}
