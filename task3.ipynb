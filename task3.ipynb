{
 "cells": [
  {
   "cell_type": "code",
   "execution_count": 13,
   "metadata": {},
   "outputs": [
    {
     "name": "stdout",
     "output_type": "stream",
     "text": [
      "MYSWKSKFKFGKSKEEKEAKHSGFFHSSKKEEQQNNQATAGEHDASITRSSLDRKGTINPSNSSVVPVRVSYDASSSTSTVRDSNGGNSENTNSSQNLDETANIGSTGTPNDATSSSGMMTIKVYNGDDFILPFPITSSEQILNKLLASGVPPPHKEISKEVDALIAQLSRVQIKNQGPADEDLISSESAAKFIPSTIMLPGSSTLNPLLYFTIEFDNTVATIEAEYGTIAKPGFNKISTFDVTRKLPYLKIDVFARIPSILLPSKTWQQEMGLQDEKLQTIFDKINSNQDIHLDSFHLPINLSFDSAASIRLYNHHWITLDNGLGKINISIDYKPSRNKPLSIDDFDLLKVIGKGSFGKVMQVRKKDTQKVYALKAIRKSYIVSKSEVTHTLAERTVLARVDCPFIVPLKFSFQSPEKLYFVLAFINGGELFYHLQKEGRFDLSRARFYTAELLCALDNLHKLDVVYRDLKPENILLDYQGHIALCDFGLCKLNMKDDDKTDTFCGTPEYLAPELLLGLGYTKAVDWWTLGVLLYEMLTGLPPYYDEDVPKMYKKILQEPLVFPDGFDRDAKDLLIGLLSRDPTRRLGYNGADEIRNHPFFSQLSWKRLLMKGYIPPYKPAVSNSMDTSNFDEEFTREKPIDSVVDEYLSESVQKQFGGWTYVGNEQLGSSMVQGRSIR\n"
     ]
    }
   ],
   "source": [
    "from pyopenms import *\n",
    "bsa = \"\".join([l.strip() for l in open(\"yeast.fasta\").readlines()[1:]])\n",
    "bsa = AASequence.fromString(bsa)\n",
    "print(bsa)"
   ]
  },
  {
   "cell_type": "code",
   "execution_count": 14,
   "metadata": {},
   "outputs": [
    {
     "name": "stdout",
     "output_type": "stream",
     "text": [
      "MYSWK\n",
      "SK\n",
      "FK\n",
      "FGK\n",
      "SK\n",
      "EEK\n",
      "EAK\n",
      "HSGFFHSSK\n",
      "K\n",
      "EEQQNNQATAGEHDASITRSSLDRK\n",
      "GTINPSNSSVVPVRVSYDASSSTSTVRDSNGGNSENTNSSQNLDETANIGSTGTPNDATSSSGMMTIK\n",
      "VYNGDDFILPFPITSSEQILNK\n",
      "LLASGVPPPHK\n",
      "EISK\n",
      "EVDALIAQLSRVQIK\n",
      "NQGPADEDLISSESAAK\n",
      "FIPSTIMLPGSSTLNPLLYFTIEFDNTVATIEAEYGTIAKPGFNK\n",
      "ISTFDVTRK\n",
      "LPYLK\n",
      "IDVFARIPSILLPSK\n",
      "TWQQEMGLQDEK\n",
      "LQTIFDK\n",
      "INSNQDIHLDSFHLPINLSFDSAASIRLYNHHWITLDNGLGK\n",
      "INISIDYKPSRNKPLSIDDFDLLK\n",
      "VIGK\n",
      "GSFGK\n",
      "VMQVRK\n",
      "K\n",
      "DTQK\n",
      "VYALK\n",
      "AIRK\n",
      "SYIVSK\n",
      "SEVTHTLAERTVLARVDCPFIVPLK\n",
      "FSFQSPEK\n",
      "LYFVLAFINGGELFYHLQK\n",
      "EGRFDLSRARFYTAELLCALDNLHK\n",
      "LDVVYRDLKPENILLDYQGHIALCDFGLCK\n",
      "LNMK\n",
      "DDDK\n",
      "TDTFCGTPEYLAPELLLGLGYTK\n",
      "AVDWWTLGVLLYEMLTGLPPYYDEDVPK\n",
      "MYK\n",
      "K\n",
      "ILQEPLVFPDGFDRDAK\n",
      "DLLIGLLSRDPTRRLGYNGADEIRNHPFFSQLSWK\n",
      "RLLMK\n",
      "GYIPPYKPAVSNSMDTSNFDEEFTREKPIDSVVDEYLSESVQK\n",
      "QFGGWTYVGNEQLGSSMVQGRSIR\n"
     ]
    }
   ],
   "source": [
    "result = []\n",
    "dig.digest(bsa, result)\n",
    "\n",
    "\n",
    "# print the results\n",
    "for s in result:\n",
    "    print(s.toString())"
   ]
  },
  {
   "cell_type": "code",
   "execution_count": 15,
   "metadata": {},
   "outputs": [
    {
     "name": "stdout",
     "output_type": "stream",
     "text": [
      "33\n",
      "[b'Alpha-lytic protease', b'proline endopeptidase', b'proline-endopeptidase/HKR', b'PepsinA + P', b'cyanogen-bromide', b'leukocyte elastase', b'2-iodobenzoate', b'elastase-trypsin-chymotrypsin', b'glutamyl endopeptidase', b'Trypsin/P', b'V8-DE', b'no cleavage', b'staphylococcal protease/D', b'unspecific cleavage', b'Glu-C+P', b'Clostripain/P', b'TrypChymo', b'V8-E', b'iodosobenzoate', b'Formic_acid', b'Trypsin', b'Arg-C', b'Asp-N_ambic', b'Chymotrypsin', b'Asp-N', b'Asp-N/B', b'Lys-N', b'CNBr', b'Lys-C/P', b'Arg-C/P', b'PepsinA', b'Chymotrypsin/P', b'Lys-C']\n"
     ]
    }
   ],
   "source": [
    "names = []\n",
    "ProteaseDB().getAllNames(names)\n",
    "print(len(names))\n",
    "print(names)"
   ]
  },
  {
   "cell_type": "code",
   "execution_count": 16,
   "metadata": {},
   "outputs": [
    {
     "name": "stdout",
     "output_type": "stream",
     "text": [
      "Trypsin/P cuts after K or R.\n",
      "(?<=[KRX])\n"
     ]
    }
   ],
   "source": [
    "e = ProteaseDB().getEnzyme('Trypsin/P')\n",
    "print(e.getRegExDescription())\n",
    "print(e.getRegEx())"
   ]
  },
  {
   "cell_type": "code",
   "execution_count": 17,
   "metadata": {},
   "outputs": [
    {
     "name": "stdout",
     "output_type": "stream",
     "text": [
      "Lys-C cuts after K if not followed by P.\n",
      "(?<=[KX])(?!P)\n"
     ]
    }
   ],
   "source": [
    "e = ProteaseDB().getEnzyme('Lys-C')\n",
    "print(e.getRegExDescription())\n",
    "print(e.getRegEx())"
   ]
  }
 ],
 "metadata": {
  "kernelspec": {
   "display_name": "Python 3",
   "language": "python",
   "name": "python3"
  },
  "language_info": {
   "codemirror_mode": {
    "name": "ipython",
    "version": 3
   },
   "file_extension": ".py",
   "mimetype": "text/x-python",
   "name": "python",
   "nbconvert_exporter": "python",
   "pygments_lexer": "ipython3",
   "version": "3.7.4"
  }
 },
 "nbformat": 4,
 "nbformat_minor": 2
}
